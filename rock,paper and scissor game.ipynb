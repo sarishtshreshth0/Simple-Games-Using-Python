{
 "cells": [
  {
   "cell_type": "code",
   "execution_count": 10,
   "id": "9ee9cfaf-9d9e-4708-959d-bfe2c48a596c",
   "metadata": {},
   "outputs": [
    {
     "data": {
      "text/plain": [
       "[1, 2, 3, 5, 8]"
      ]
     },
     "execution_count": 10,
     "metadata": {},
     "output_type": "execute_result"
    }
   ],
   "source": [
    "a = [1,1,2,3,5,8,19,21,34,55,59]\n",
    "b = [1, 2, 3, 4, 5, 6, 7, 8, 9, 10, 11, 12, 13]\n",
    "\n",
    "\n",
    "list(set(a).intersection(set(b)))\n",
    "\n"
   ]
  },
  {
   "cell_type": "code",
   "execution_count": 2,
   "id": "8e8c28c1-2886-4809-9531-7f5aa7c83dad",
   "metadata": {},
   "outputs": [
    {
     "data": {
      "text/plain": [
       "[1, 1, 2, 3, 5, 8, 19, 21, 34, 55, 59]"
      ]
     },
     "execution_count": 2,
     "metadata": {},
     "output_type": "execute_result"
    }
   ],
   "source": [
    "a"
   ]
  },
  {
   "cell_type": "markdown",
   "id": "2e5bd4a0-89a9-4f26-96e7-e629c1328909",
   "metadata": {},
   "source": [
    "b"
   ]
  },
  {
   "cell_type": "code",
   "execution_count": 8,
   "id": "2bfd7163-44ea-4ef7-b7e6-c561d8f91cd0",
   "metadata": {},
   "outputs": [
    {
     "name": "stdout",
     "output_type": "stream",
     "text": [
      "{1, 2, 3, 34, 5, 4, 6, 8, 7, 9, 10, 11, 13, 12, 21, 55, 89}\n"
     ]
    }
   ],
   "source": [
    "a = [1, 1, 2, 3, 5, 8, 13, 21, 34, 55, 89]\n",
    "b = [1, 2, 3, 4, 5, 6, 7, 8, 9, 10, 11, 12, 13]\n",
    "\n",
    "c = set(a + b)\n",
    "\n",
    "print(c)\n",
    "\n"
   ]
  },
  {
   "cell_type": "code",
   "execution_count": 6,
   "id": "48e5c81a-5b0b-44b0-b9df-46bc1a066304",
   "metadata": {},
   "outputs": [
    {
     "data": {
      "text/plain": [
       "[]"
      ]
     },
     "execution_count": 6,
     "metadata": {},
     "output_type": "execute_result"
    }
   ],
   "source": [
    "common_numbers"
   ]
  },
  {
   "cell_type": "code",
   "execution_count": 11,
   "id": "440942c2-e130-4cf8-8e18-8bf8c3ec77ba",
   "metadata": {},
   "outputs": [
    {
     "data": {
      "text/plain": [
       "[1, 2, 3, 5, 8]"
      ]
     },
     "execution_count": 11,
     "metadata": {},
     "output_type": "execute_result"
    }
   ],
   "source": [
    "\n",
    "\n",
    "list(set(a).intersection(set(b)))\n",
    "\n"
   ]
  },
  {
   "cell_type": "markdown",
   "id": "95052da8-6cea-4fd9-bffe-16e1b19385e3",
   "metadata": {},
   "source": [
    "Ask the user for a string and print out whether this string is a palindrome or not. "
   ]
  },
  {
   "cell_type": "code",
   "execution_count": 12,
   "id": "1fd7f03f-64f2-4b6b-b002-6802de992380",
   "metadata": {},
   "outputs": [],
   "source": [
    "a = \"sarisht\""
   ]
  },
  {
   "cell_type": "code",
   "execution_count": 13,
   "id": "3f732da6-2739-4f7b-9aa1-1c86c1f68a46",
   "metadata": {},
   "outputs": [
    {
     "data": {
      "text/plain": [
       "'sarisht'"
      ]
     },
     "execution_count": 13,
     "metadata": {},
     "output_type": "execute_result"
    }
   ],
   "source": [
    "a"
   ]
  },
  {
   "cell_type": "code",
   "execution_count": null,
   "id": "9bc2897a-7279-4a96-b9ab-83b83b4c17f2",
   "metadata": {},
   "outputs": [],
   "source": []
  },
  {
   "cell_type": "code",
   "execution_count": 2,
   "id": "9e0cbd80-f7a5-4b99-9a87-209c75bf308f",
   "metadata": {},
   "outputs": [
    {
     "name": "stdin",
     "output_type": "stream",
     "text": [
      "user name nn\n"
     ]
    },
    {
     "name": "stdout",
     "output_type": "stream",
     "text": [
      "this name is palindrome\n"
     ]
    }
   ],
   "source": [
    "user_name = input(\"user name\")\n",
    "z=user_name[::-1]  \n",
    "if user_name==z:\n",
    "        print(\"this name is palindrome\")\n",
    "else: \n",
    "        print(\"this name is  not palindrome\")"
   ]
  },
  {
   "cell_type": "code",
   "execution_count": 41,
   "id": "c08f667d-972e-421e-a713-19a0ffa084c1",
   "metadata": {},
   "outputs": [
    {
     "data": {
      "text/plain": [
       "'nitin'"
      ]
     },
     "execution_count": 41,
     "metadata": {},
     "output_type": "execute_result"
    }
   ],
   "source": [
    "z"
   ]
  },
  {
   "cell_type": "markdown",
   "id": "c9fd85ae-dc3b-4649-84c8-ee39fe9652c1",
   "metadata": {},
   "source": [
    "Let’s say I give you a list saved in a variable: a = [1, 4, 9, 16, 25, 36, 49, 64, 81, 100]. Write one line of Python that takes this list a and makes a new list that has only the even elements of this list in it.\n"
   ]
  },
  {
   "cell_type": "code",
   "execution_count": 58,
   "id": "829fe162-385c-46eb-8d95-9c0c9d2326a9",
   "metadata": {},
   "outputs": [],
   "source": [
    "a = [1, 4, 9, 16, 25, 36, 49, 64, 81, 100]"
   ]
  },
  {
   "cell_type": "code",
   "execution_count": 59,
   "id": "cde1337f-8c53-4874-a858-123696cfa027",
   "metadata": {},
   "outputs": [
    {
     "data": {
      "text/plain": [
       "[1, 4, 9, 16, 25, 36, 49, 64, 81, 100]"
      ]
     },
     "execution_count": 59,
     "metadata": {},
     "output_type": "execute_result"
    }
   ],
   "source": [
    "a"
   ]
  },
  {
   "cell_type": "code",
   "execution_count": 60,
   "id": "5a78aff9-a018-46c9-8a27-d4e0bb985f7c",
   "metadata": {},
   "outputs": [],
   "source": [
    "l2=[]\n",
    "for i in a:\n",
    "    if i%2==0:\n",
    "        l2.append(i)"
   ]
  },
  {
   "cell_type": "code",
   "execution_count": 61,
   "id": "2ff39be1-0355-41a2-9fb3-fda25de56ec8",
   "metadata": {},
   "outputs": [
    {
     "data": {
      "text/plain": [
       "[4, 16, 36, 64, 100]"
      ]
     },
     "execution_count": 61,
     "metadata": {},
     "output_type": "execute_result"
    }
   ],
   "source": [
    "l2"
   ]
  },
  {
   "cell_type": "markdown",
   "id": "91823cb0-bcbb-47cf-85b7-519a70af0ddd",
   "metadata": {},
   "source": [
    "Make a two-player Rock-Paper-Scissors game."
   ]
  },
  {
   "cell_type": "code",
   "execution_count": 5,
   "id": "06421ce4-4cc7-433c-b85d-23990af81006",
   "metadata": {},
   "outputs": [
    {
     "name": "stdin",
     "output_type": "stream",
     "text": [
      "player_A scissor\n",
      "player_B paper\n"
     ]
    },
    {
     "name": "stdout",
     "output_type": "stream",
     "text": [
      "A, winner\n"
     ]
    }
   ],
   "source": [
    "player_A = input(\"player_A\")\n",
    "player_B = input(\"player_B\")\n",
    "if player_A==player_B:\n",
    "    print(\"Play once again\")\n",
    "elif player_A == \"scissor\" and player_B == \"rock\":\n",
    "    print(\"B, winner\")\n",
    "elif player_A == \"rock\" and player_B == \"scissor\":\n",
    "        print(\"A, winner\")\n",
    "elif player_A == \"rock\" and player_B == \"paper\":\n",
    "        print(\"B, winner\")\n",
    "elif player_A == \"paper\" and player_A == \"rock\":\n",
    "        pint(\"A, winner\")\n",
    "elif player_A ==\"scissor\"  and player_B == \"paper\":\n",
    "        print(\"A, winner\")\n",
    "elif player_A == \"paper\" and player_B== \"scissor\":\n",
    "        print(\"B, winner\")"
   ]
  },
  {
   "cell_type": "code",
   "execution_count": null,
   "id": "164a506a-300d-4a47-bb0c-975ffc7705e7",
   "metadata": {},
   "outputs": [],
   "source": []
  }
 ],
 "metadata": {
  "kernelspec": {
   "display_name": "Python 3 (ipykernel)",
   "language": "python",
   "name": "python3"
  },
  "language_info": {
   "codemirror_mode": {
    "name": "ipython",
    "version": 3
   },
   "file_extension": ".py",
   "mimetype": "text/x-python",
   "name": "python",
   "nbconvert_exporter": "python",
   "pygments_lexer": "ipython3",
   "version": "3.10.8"
  }
 },
 "nbformat": 4,
 "nbformat_minor": 5
}
