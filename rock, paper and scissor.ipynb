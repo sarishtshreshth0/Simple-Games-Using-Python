{
 "cells": [
  {
   "cell_type": "code",
   "execution_count": null,
   "id": "8a4f58f6-720f-4be9-afcd-280ac8cdcbe1",
   "metadata": {},
   "outputs": [],
   "source": [
    "player_A = input(\"player_A\")\n",
    "player_B = input(\"player_B\")\n",
    "if player_A==player_B:\n",
    "    print(\"Play once again\")\n",
    "elif player_A == \"scissor\" and player_B == \"rock\":\n",
    "    print(\"B, winner\")\n",
    "elif player_A == \"rock\" and player_B == \"scissor\":\n",
    "        print(\"A, winner\")\n",
    "elif player_A == \"rock\" and player_B == \"paper\":\n",
    "        print(\"B, winner\")\n",
    "elif player_A == \"paper\" and player_A == \"rock\":\n",
    "        pint(\"A, winner\")\n",
    "elif player_A ==\"scissor\"  and player_B == \"paper\":\n",
    "        print(\"A, winner\")\n",
    "elif player_A == \"paper\" and player_B== \"scissor\":\n",
    "        print(\"B, winner\")"
   ]
  }
 ],
 "metadata": {
  "kernelspec": {
   "display_name": "Python 3 (ipykernel)",
   "language": "python",
   "name": "python3"
  },
  "language_info": {
   "codemirror_mode": {
    "name": "ipython",
    "version": 3
   },
   "file_extension": ".py",
   "mimetype": "text/x-python",
   "name": "python",
   "nbconvert_exporter": "python",
   "pygments_lexer": "ipython3",
   "version": "3.10.8"
  }
 },
 "nbformat": 4,
 "nbformat_minor": 5
}
